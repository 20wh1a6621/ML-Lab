{
 "cells": [
  {
   "cell_type": "code",
   "execution_count": 1,
   "metadata": {},
   "outputs": [],
   "source": [
    "import numpy as np\n",
    "import pandas as pd"
   ]
  },
  {
   "cell_type": "code",
   "execution_count": 15,
   "metadata": {},
   "outputs": [
    {
     "name": "stdout",
     "output_type": "stream",
     "text": [
      "<class 'list'>\n",
      "[[1, 0, 1, 1, 1, 0], [0, 1, 0, 0, 0, 1], [0, 0, 0, 0, 1, 0], [0, 1, 1, 1, 1, 0]]\n"
     ]
    }
   ],
   "source": [
    "import random\n",
    "best=-100000\n",
    "populations =([[random.randint(0,1) for x in range(6)] for i in range(4)])\n",
    "print(type(populations))\n",
    "parents=[]\n",
    "new_populations = []\n",
    "print(populations)"
   ]
  },
  {
   "cell_type": "code",
   "execution_count": 16,
   "metadata": {},
   "outputs": [
    {
     "name": "stdout",
     "output_type": "stream",
     "text": [
      "-14\n",
      "17\n",
      "2\n",
      "30\n",
      "[-191, -284, 1, -895]\n"
     ]
    }
   ],
   "source": [
    "def fitness_score() :\n",
    "    global populations,best\n",
    "    fit_value = []\n",
    "    fit_score=[]\n",
    "    for i in range(4) :\n",
    "        chromosome_value=0\n",
    "        for j in range(5,0,-1) :\n",
    "            chromosome_value += populations[i][j]*(2**(5-j))\n",
    "        chromosome_value = -1*chromosome_value if populations[i][0]==1 else chromosome_value\n",
    "        print(chromosome_value)\n",
    "        fit_value.append(-(chromosome_value**2) + 5 )\n",
    "    print(fit_value)\n",
    "    fit_value, populations = zip(*sorted(zip(fit_value, populations) , reverse = True))\n",
    "    best= fit_value[0]\n",
    "fitness_score()"
   ]
  },
  {
   "cell_type": "code",
   "execution_count": 17,
   "metadata": {},
   "outputs": [
    {
     "name": "stdout",
     "output_type": "stream",
     "text": [
      "<class 'tuple'>\n",
      "([0, 0, 0, 0, 1, 0], [1, 0, 1, 1, 1, 0])\n"
     ]
    }
   ],
   "source": [
    "def selectparent():\n",
    "    global parents\n",
    "     #global populations , parents\n",
    "    parents=populations[0:2]\n",
    "    print(type(parents))\n",
    "    print(parents)\n",
    "selectparent()"
   ]
  },
  {
   "cell_type": "code",
   "execution_count": 18,
   "metadata": {},
   "outputs": [
    {
     "name": "stdout",
     "output_type": "stream",
     "text": [
      "([0, 0, 0, 0, 1, 0], [1, 0, 1, 1, 1, 0], [0, 0, 1, 1, 1, 0], [1, 0, 0, 0, 1, 0])\n"
     ]
    }
   ],
   "source": [
    "def crossover() :\n",
    "    global parents\n",
    "\n",
    "    cross_point = random.randint(0,5)\n",
    "    parents=tuple(parents) + tuple([(parents[0][0:cross_point +1] +parents[1][cross_point+1:6])])\n",
    "    parents =tuple(parents)+ tuple([(parents[1][0:cross_point +1] +parents[0][cross_point+1:6])])\n",
    "\n",
    "    print(parents)\n",
    "crossover()\n"
   ]
  },
  {
   "cell_type": "code",
   "execution_count": 19,
   "metadata": {},
   "outputs": [
    {
     "name": "stdout",
     "output_type": "stream",
     "text": [
      "([0, 0, 0, 0, 1, 0], [1, 0, 1, 1, 1, 0], [0, 1, 0, 0, 0, 1], [0, 1, 1, 1, 1, 0])\n"
     ]
    }
   ],
   "source": [
    "def mutation() :\n",
    "    global populations, parents\n",
    "    mute = random.randint(0,49)\n",
    "    if mute == 20 :\n",
    "        x=random.randint(0,3)\n",
    "        y = random.randint(0,5)\n",
    "        parents[x][y] = 1-parents[x][y]\n",
    "        populations = parents\n",
    "    print(populations)\n",
    "mutation()"
   ]
  },
  {
   "cell_type": "code",
   "execution_count": 20,
   "metadata": {},
   "outputs": [
    {
     "name": "stdout",
     "output_type": "stream",
     "text": [
      "2\n",
      "-14\n",
      "17\n",
      "30\n",
      "[1, -191, -284, -895]\n",
      "<class 'tuple'>\n",
      "([0, 0, 0, 0, 1, 0], [1, 0, 1, 1, 1, 0])\n",
      "([0, 0, 0, 0, 1, 0], [1, 0, 1, 1, 1, 0], [0, 0, 0, 1, 1, 0], [1, 0, 1, 0, 1, 0])\n",
      "([0, 0, 0, 0, 1, 0], [1, 0, 1, 1, 1, 0], [0, 1, 0, 0, 0, 1], [0, 1, 1, 1, 1, 0])\n",
      "2\n",
      "-14\n",
      "17\n",
      "30\n",
      "[1, -191, -284, -895]\n",
      "<class 'tuple'>\n",
      "([0, 0, 0, 0, 1, 0], [1, 0, 1, 1, 1, 0])\n",
      "([0, 0, 0, 0, 1, 0], [1, 0, 1, 1, 1, 0], [0, 0, 0, 0, 1, 0], [1, 0, 1, 1, 1, 0])\n",
      "([0, 0, 0, 0, 1, 0], [1, 0, 1, 1, 1, 0], [0, 1, 0, 0, 0, 1], [0, 1, 1, 1, 1, 0])\n",
      "2\n",
      "-14\n",
      "17\n",
      "30\n",
      "[1, -191, -284, -895]\n",
      "<class 'tuple'>\n",
      "([0, 0, 0, 0, 1, 0], [1, 0, 1, 1, 1, 0])\n",
      "([0, 0, 0, 0, 1, 0], [1, 0, 1, 1, 1, 0], [0, 0, 0, 0, 1, 0], [1, 0, 1, 1, 1, 0])\n",
      "([0, 0, 0, 0, 1, 0], [1, 0, 1, 1, 1, 0], [0, 1, 0, 0, 0, 1], [0, 1, 1, 1, 1, 0])\n",
      "2\n",
      "-14\n",
      "17\n",
      "30\n",
      "[1, -191, -284, -895]\n",
      "<class 'tuple'>\n",
      "([0, 0, 0, 0, 1, 0], [1, 0, 1, 1, 1, 0])\n",
      "([0, 0, 0, 0, 1, 0], [1, 0, 1, 1, 1, 0], [0, 0, 0, 0, 1, 0], [1, 0, 1, 1, 1, 0])\n",
      "([0, 0, 0, 0, 1, 0], [1, 0, 1, 1, 1, 0], [0, 1, 0, 0, 0, 1], [0, 1, 1, 1, 1, 0])\n",
      "2\n",
      "-14\n",
      "17\n",
      "30\n",
      "[1, -191, -284, -895]\n",
      "<class 'tuple'>\n",
      "([0, 0, 0, 0, 1, 0], [1, 0, 1, 1, 1, 0])\n",
      "([0, 0, 0, 0, 1, 0], [1, 0, 1, 1, 1, 0], [0, 0, 0, 0, 1, 0], [1, 0, 1, 1, 1, 0])\n",
      "([0, 0, 0, 0, 1, 0], [1, 0, 1, 1, 1, 0], [0, 1, 0, 0, 0, 1], [0, 1, 1, 1, 1, 0])\n",
      "2\n",
      "-14\n",
      "17\n",
      "30\n",
      "[1, -191, -284, -895]\n",
      "<class 'tuple'>\n",
      "([0, 0, 0, 0, 1, 0], [1, 0, 1, 1, 1, 0])\n",
      "([0, 0, 0, 0, 1, 0], [1, 0, 1, 1, 1, 0], [0, 0, 1, 1, 1, 0], [1, 0, 0, 0, 1, 0])\n",
      "([0, 0, 0, 0, 1, 0], [1, 0, 1, 1, 1, 0], [0, 1, 0, 0, 0, 1], [0, 1, 1, 1, 1, 0])\n",
      "2\n",
      "-14\n",
      "17\n",
      "30\n",
      "[1, -191, -284, -895]\n",
      "<class 'tuple'>\n",
      "([0, 0, 0, 0, 1, 0], [1, 0, 1, 1, 1, 0])\n",
      "([0, 0, 0, 0, 1, 0], [1, 0, 1, 1, 1, 0], [0, 0, 0, 0, 1, 0], [1, 0, 1, 1, 1, 0])\n",
      "([0, 0, 0, 0, 1, 0], [1, 0, 1, 1, 1, 0], [0, 1, 0, 0, 0, 1], [0, 1, 1, 1, 1, 0])\n",
      "2\n",
      "-14\n",
      "17\n",
      "30\n",
      "[1, -191, -284, -895]\n",
      "<class 'tuple'>\n",
      "([0, 0, 0, 0, 1, 0], [1, 0, 1, 1, 1, 0])\n",
      "([0, 0, 0, 0, 1, 0], [1, 0, 1, 1, 1, 0], [0, 0, 1, 1, 1, 0], [1, 0, 0, 0, 1, 0])\n",
      "([0, 0, 0, 0, 1, 0], [1, 0, 1, 1, 1, 0], [0, 1, 0, 0, 0, 1], [0, 1, 1, 1, 1, 0])\n",
      "2\n",
      "-14\n",
      "17\n",
      "30\n",
      "[1, -191, -284, -895]\n",
      "<class 'tuple'>\n",
      "([0, 0, 0, 0, 1, 0], [1, 0, 1, 1, 1, 0])\n",
      "([0, 0, 0, 0, 1, 0], [1, 0, 1, 1, 1, 0], [0, 0, 0, 0, 1, 0], [1, 0, 1, 1, 1, 0])\n",
      "([0, 0, 0, 0, 1, 0], [1, 0, 1, 1, 1, 0], [0, 1, 0, 0, 0, 1], [0, 1, 1, 1, 1, 0])\n",
      "2\n",
      "-14\n",
      "17\n",
      "30\n",
      "[1, -191, -284, -895]\n",
      "<class 'tuple'>\n",
      "([0, 0, 0, 0, 1, 0], [1, 0, 1, 1, 1, 0])\n",
      "([0, 0, 0, 0, 1, 0], [1, 0, 1, 1, 1, 0], [0, 0, 0, 0, 1, 0], [1, 0, 1, 1, 1, 0])\n",
      "([0, 0, 0, 0, 1, 0], [1, 0, 1, 1, 1, 0], [0, 1, 0, 0, 0, 1], [0, 1, 1, 1, 1, 0])\n",
      "best score :\n",
      "1\n",
      "sequence........\n",
      "[0, 0, 0, 0, 1, 0]\n"
     ]
    }
   ],
   "source": [
    "for i in range(10) :\n",
    "    fitness_score()\n",
    "    selectparent()\n",
    "    crossover()\n",
    "    mutation()\n",
    "print(\"best score :\")\n",
    "print(best)\n",
    "print(\"sequence........\")\n",
    "print(populations[0])"
   ]
  },
  {
   "cell_type": "code",
   "execution_count": null,
   "metadata": {},
   "outputs": [],
   "source": []
  }
 ],
 "metadata": {
  "kernelspec": {
   "display_name": "Python 3 (ipykernel)",
   "language": "python",
   "name": "python3"
  },
  "language_info": {
   "codemirror_mode": {
    "name": "ipython",
    "version": 3
   },
   "file_extension": ".py",
   "mimetype": "text/x-python",
   "name": "python",
   "nbconvert_exporter": "python",
   "pygments_lexer": "ipython3",
   "version": "3.8.5"
  }
 },
 "nbformat": 4,
 "nbformat_minor": 4
}
